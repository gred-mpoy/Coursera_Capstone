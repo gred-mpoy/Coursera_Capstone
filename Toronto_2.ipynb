{
    "nbformat_minor": 2, 
    "cells": [
        {
            "source": "# Segmenting and Clustering Neighborhoods in Toronto - Part 2", 
            "cell_type": "markdown", 
            "metadata": {}
        }, 
        {
            "source": "### Objective\nNow that we have built a dataframe of the postal code of each neighborhood along with the borough name and neighborhood name, in order to utilize the Foursquare location data, we need to get the latitude and the longitude coordinates of each neighborhood.\n\n**The aim of this Notebook is to get the geographical coordinates of each neighborhood either by means of the Geocoder package or the csv file provided and to create a new dataframe.**", 
            "cell_type": "markdown", 
            "metadata": {}
        }, 
        {
            "source": "### Steps", 
            "cell_type": "markdown", 
            "metadata": {}
        }, 
        {
            "source": "**1. Importing the necessary Python libraries**", 
            "cell_type": "markdown", 
            "metadata": {}
        }, 
        {
            "execution_count": 90, 
            "cell_type": "code", 
            "metadata": {}, 
            "outputs": [], 
            "source": "import pandas as pd\nimport numpy as np"
        }, 
        {
            "source": "**2 Retrieving the csv file saved in the previous notebook**", 
            "cell_type": "markdown", 
            "metadata": {}
        }, 
        {
            "execution_count": 91, 
            "cell_type": "code", 
            "metadata": {}, 
            "outputs": [], 
            "source": "filename = 'Toronto1.csv'\ndf = pd.read_csv(filename)"
        }, 
        {
            "execution_count": 92, 
            "cell_type": "code", 
            "metadata": {}, 
            "outputs": [
                {
                    "execution_count": 92, 
                    "metadata": {}, 
                    "data": {
                        "text/html": "<div>\n<style scoped>\n    .dataframe tbody tr th:only-of-type {\n        vertical-align: middle;\n    }\n\n    .dataframe tbody tr th {\n        vertical-align: top;\n    }\n\n    .dataframe thead th {\n        text-align: right;\n    }\n</style>\n<table border=\"1\" class=\"dataframe\">\n  <thead>\n    <tr style=\"text-align: right;\">\n      <th></th>\n      <th>Postal Code</th>\n      <th>Borough</th>\n      <th>Neighbourhood</th>\n    </tr>\n  </thead>\n  <tbody>\n    <tr>\n      <th>0</th>\n      <td>M1B</td>\n      <td>Scarborough</td>\n      <td>Malvern, Rouge</td>\n    </tr>\n    <tr>\n      <th>1</th>\n      <td>M1C</td>\n      <td>Scarborough</td>\n      <td>Highland Creek, Port Union, Rouge Hill</td>\n    </tr>\n    <tr>\n      <th>2</th>\n      <td>M1E</td>\n      <td>Scarborough</td>\n      <td>Guildwood, Morningside, West Hill</td>\n    </tr>\n    <tr>\n      <th>3</th>\n      <td>M1G</td>\n      <td>Scarborough</td>\n      <td>Woburn</td>\n    </tr>\n    <tr>\n      <th>4</th>\n      <td>M1H</td>\n      <td>Scarborough</td>\n      <td>Cedarbrae</td>\n    </tr>\n  </tbody>\n</table>\n</div>", 
                        "text/plain": "  Postal Code      Borough                           Neighbourhood\n0         M1B  Scarborough                          Malvern, Rouge\n1         M1C  Scarborough  Highland Creek, Port Union, Rouge Hill\n2         M1E  Scarborough       Guildwood, Morningside, West Hill\n3         M1G  Scarborough                                  Woburn\n4         M1H  Scarborough                               Cedarbrae"
                    }, 
                    "output_type": "execute_result"
                }
            ], 
            "source": "# Renaming column in order to make ulterior merging process easier\ndf.rename(columns={'PostalCode':'Postal Code'},inplace = True)\ndf.head()"
        }, 
        {
            "source": "**3. Retrieving the geospatial coordinates for each postal code from other source**", 
            "cell_type": "markdown", 
            "metadata": {}
        }, 
        {
            "execution_count": 93, 
            "cell_type": "code", 
            "metadata": {}, 
            "outputs": [
                {
                    "execution_count": 93, 
                    "metadata": {}, 
                    "data": {
                        "text/html": "<div>\n<style scoped>\n    .dataframe tbody tr th:only-of-type {\n        vertical-align: middle;\n    }\n\n    .dataframe tbody tr th {\n        vertical-align: top;\n    }\n\n    .dataframe thead th {\n        text-align: right;\n    }\n</style>\n<table border=\"1\" class=\"dataframe\">\n  <thead>\n    <tr style=\"text-align: right;\">\n      <th></th>\n      <th>Postal Code</th>\n      <th>Latitude</th>\n      <th>Longitude</th>\n    </tr>\n  </thead>\n  <tbody>\n    <tr>\n      <th>0</th>\n      <td>M1B</td>\n      <td>43.806686</td>\n      <td>-79.194353</td>\n    </tr>\n    <tr>\n      <th>1</th>\n      <td>M1C</td>\n      <td>43.784535</td>\n      <td>-79.160497</td>\n    </tr>\n    <tr>\n      <th>2</th>\n      <td>M1E</td>\n      <td>43.763573</td>\n      <td>-79.188711</td>\n    </tr>\n    <tr>\n      <th>3</th>\n      <td>M1G</td>\n      <td>43.770992</td>\n      <td>-79.216917</td>\n    </tr>\n    <tr>\n      <th>4</th>\n      <td>M1H</td>\n      <td>43.773136</td>\n      <td>-79.239476</td>\n    </tr>\n  </tbody>\n</table>\n</div>", 
                        "text/plain": "  Postal Code   Latitude  Longitude\n0         M1B  43.806686 -79.194353\n1         M1C  43.784535 -79.160497\n2         M1E  43.763573 -79.188711\n3         M1G  43.770992 -79.216917\n4         M1H  43.773136 -79.239476"
                    }, 
                    "output_type": "execute_result"
                }
            ], 
            "source": "!wget -q -O Geospatial_Coordinates.csv https://cocl.us/Geospatial_data #-q used for prevent visualizing large output associated to download process\ngeo_data = pd.read_csv('Geospatial_Coordinates.csv')\ngeo_data.head()"
        }, 
        {
            "source": "**4. Merging the dataframes, based on postal codes**", 
            "cell_type": "markdown", 
            "metadata": {}
        }, 
        {
            "execution_count": 94, 
            "cell_type": "code", 
            "metadata": {}, 
            "outputs": [], 
            "source": "df = pd.merge(df, geo_data, on='Postal Code')"
        }, 
        {
            "source": "**5. Checking the results**", 
            "cell_type": "markdown", 
            "metadata": {}
        }, 
        {
            "execution_count": 95, 
            "cell_type": "code", 
            "metadata": {}, 
            "outputs": [
                {
                    "execution_count": 95, 
                    "metadata": {}, 
                    "data": {
                        "text/html": "<div>\n<style scoped>\n    .dataframe tbody tr th:only-of-type {\n        vertical-align: middle;\n    }\n\n    .dataframe tbody tr th {\n        vertical-align: top;\n    }\n\n    .dataframe thead th {\n        text-align: right;\n    }\n</style>\n<table border=\"1\" class=\"dataframe\">\n  <thead>\n    <tr style=\"text-align: right;\">\n      <th></th>\n      <th>Postal Code</th>\n      <th>Borough</th>\n      <th>Neighbourhood</th>\n      <th>Latitude</th>\n      <th>Longitude</th>\n    </tr>\n  </thead>\n  <tbody>\n    <tr>\n      <th>0</th>\n      <td>M1B</td>\n      <td>Scarborough</td>\n      <td>Malvern, Rouge</td>\n      <td>43.806686</td>\n      <td>-79.194353</td>\n    </tr>\n    <tr>\n      <th>1</th>\n      <td>M1C</td>\n      <td>Scarborough</td>\n      <td>Highland Creek, Port Union, Rouge Hill</td>\n      <td>43.784535</td>\n      <td>-79.160497</td>\n    </tr>\n    <tr>\n      <th>2</th>\n      <td>M1E</td>\n      <td>Scarborough</td>\n      <td>Guildwood, Morningside, West Hill</td>\n      <td>43.763573</td>\n      <td>-79.188711</td>\n    </tr>\n    <tr>\n      <th>3</th>\n      <td>M1G</td>\n      <td>Scarborough</td>\n      <td>Woburn</td>\n      <td>43.770992</td>\n      <td>-79.216917</td>\n    </tr>\n    <tr>\n      <th>4</th>\n      <td>M1H</td>\n      <td>Scarborough</td>\n      <td>Cedarbrae</td>\n      <td>43.773136</td>\n      <td>-79.239476</td>\n    </tr>\n    <tr>\n      <th>5</th>\n      <td>M1J</td>\n      <td>Scarborough</td>\n      <td>Scarborough Village</td>\n      <td>43.744734</td>\n      <td>-79.239476</td>\n    </tr>\n    <tr>\n      <th>6</th>\n      <td>M1K</td>\n      <td>Scarborough</td>\n      <td>East Birchmount Park, Ionview, Kennedy Park</td>\n      <td>43.727929</td>\n      <td>-79.262029</td>\n    </tr>\n    <tr>\n      <th>7</th>\n      <td>M1L</td>\n      <td>Scarborough</td>\n      <td>Clairlea, Golden Mile, Oakridge</td>\n      <td>43.711112</td>\n      <td>-79.284577</td>\n    </tr>\n    <tr>\n      <th>8</th>\n      <td>M1M</td>\n      <td>Scarborough</td>\n      <td>Cliffcrest, Cliffside, Scarborough Village West</td>\n      <td>43.716316</td>\n      <td>-79.239476</td>\n    </tr>\n    <tr>\n      <th>9</th>\n      <td>M1N</td>\n      <td>Scarborough</td>\n      <td>Birch Cliff, Cliffside West</td>\n      <td>43.692657</td>\n      <td>-79.264848</td>\n    </tr>\n  </tbody>\n</table>\n</div>", 
                        "text/plain": "  Postal Code      Borough                                    Neighbourhood  \\\n0         M1B  Scarborough                                   Malvern, Rouge   \n1         M1C  Scarborough           Highland Creek, Port Union, Rouge Hill   \n2         M1E  Scarborough                Guildwood, Morningside, West Hill   \n3         M1G  Scarborough                                           Woburn   \n4         M1H  Scarborough                                        Cedarbrae   \n5         M1J  Scarborough                              Scarborough Village   \n6         M1K  Scarborough      East Birchmount Park, Ionview, Kennedy Park   \n7         M1L  Scarborough                  Clairlea, Golden Mile, Oakridge   \n8         M1M  Scarborough  Cliffcrest, Cliffside, Scarborough Village West   \n9         M1N  Scarborough                      Birch Cliff, Cliffside West   \n\n    Latitude  Longitude  \n0  43.806686 -79.194353  \n1  43.784535 -79.160497  \n2  43.763573 -79.188711  \n3  43.770992 -79.216917  \n4  43.773136 -79.239476  \n5  43.744734 -79.239476  \n6  43.727929 -79.262029  \n7  43.711112 -79.284577  \n8  43.716316 -79.239476  \n9  43.692657 -79.264848  "
                    }, 
                    "output_type": "execute_result"
                }
            ], 
            "source": "## First ten rows of the dataframe\ndf.head(10)"
        }, 
        {
            "execution_count": 96, 
            "cell_type": "code", 
            "metadata": {}, 
            "outputs": [
                {
                    "execution_count": 96, 
                    "metadata": {}, 
                    "data": {
                        "text/plain": "(103, 5)"
                    }, 
                    "output_type": "execute_result"
                }
            ], 
            "source": "## Size of the dataframe (rows, columns)\ndf.shape"
        }, 
        {
            "source": "**6. Saving the data**", 
            "cell_type": "markdown", 
            "metadata": {}
        }, 
        {
            "execution_count": 97, 
            "cell_type": "code", 
            "metadata": {}, 
            "outputs": [], 
            "source": "df.to_csv('Toronto2.csv', index = False)"
        }
    ], 
    "metadata": {
        "kernelspec": {
            "display_name": "Python 3.5", 
            "name": "python3", 
            "language": "python"
        }, 
        "language_info": {
            "mimetype": "text/x-python", 
            "nbconvert_exporter": "python", 
            "version": "3.5.5", 
            "name": "python", 
            "file_extension": ".py", 
            "pygments_lexer": "ipython3", 
            "codemirror_mode": {
                "version": 3, 
                "name": "ipython"
            }
        }
    }, 
    "nbformat": 4
}