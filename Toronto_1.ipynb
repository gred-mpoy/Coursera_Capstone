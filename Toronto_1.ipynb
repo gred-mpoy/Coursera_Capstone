{
    "nbformat_minor": 2, 
    "cells": [
        {
            "source": "# Segmenting and Clustering Neighborhoods in Toronto", 
            "cell_type": "markdown", 
            "metadata": {}
        }, 
        {
            "source": "### Objective\nThe aim of this Notebook is to build the code to scrape the following Wikipedia page https://en.wikipedia.org/wiki/List_of_postal_codes_of_Canada:_M,\nin order to obtain the data that is in the table of postal codes and to transform it into a pandas dataframe.", 
            "cell_type": "markdown", 
            "metadata": {}
        }, 
        {
            "source": "### Steps", 
            "cell_type": "markdown", 
            "metadata": {}
        }, 
        {
            "source": "**1. Importing the necessary Python libraries**", 
            "cell_type": "markdown", 
            "metadata": {}
        }, 
        {
            "source": "import requests\nimport pandas as pd\nimport lxml.html as lh\nimport bs4 as bs\nimport urllib.request", 
            "cell_type": "code", 
            "metadata": {}, 
            "outputs": [], 
            "execution_count": 2
        }, 
        {
            "source": "**2 Scraping the website using BS4, a python library for pulling data out of HTML and XML files**", 
            "cell_type": "markdown", 
            "metadata": {}
        }, 
        {
            "source": "url='https://en.wikipedia.org/wiki/List_of_postal_codes_of_Canada:_M'\ndef scrape_table(cname, cols):\n    page  = urllib.request.urlopen(url).read()\n    soup  = bs.BeautifulSoup(page, 'lxml')\n    table = soup.find(\"table\", class_ = cname)\n    header = [head.findAll(text = True)[0].strip() for head in table.find_all(\"th\")]\n    data   = [[td.findAll(text = True)[0].strip() for td in tr.find_all(\"td\")]\n    for tr in table.find_all(\"tr\")]\n    data    = [row for row in data if len(row) == cols]\n    raw_df = pd.DataFrame(data, columns = header)\n    return raw_df", 
            "cell_type": "code", 
            "metadata": {}, 
            "outputs": [], 
            "execution_count": 3
        }, 
        {
            "source": "**3. Parsing the data using lxml, a  Python library that supports scraping with XPath**", 
            "cell_type": "markdown", 
            "metadata": {}
        }, 
        {
            "source": "def scrape_table2(XPATH, cols):\n    page = requests.get(url)\n    doc = lh.fromstring(page.content)\n    table_content = doc.xpath(XPATH)\n    for table in table_content:\n        headers = [th.text_content().strip() for th in table.xpath('//th')]\n        headers = headers[0:3]\n        data    = [[td.text_content().strip() for td in tr.xpath('td')] \n        for tr in table.xpath('//tbody/tr')]\n        data    = [row for row in data if len(row) == cols]\n        raw_df = pd.DataFrame(data, columns = headers)\n        return raw_df\nraw_data = scrape_table(\"wikitable\", 3)", 
            "cell_type": "code", 
            "metadata": {}, 
            "outputs": [], 
            "execution_count": 4
        }, 
        {
            "source": "**4. Cleaning up and re-grouping the data**", 
            "cell_type": "markdown", 
            "metadata": {}
        }, 
        {
            "source": "df = raw_data[~raw_data['Borough'].isin(['Not assigned'])]\ndf = df.sort_values(by=['Postcode','Borough','Neighbourhood'], ascending = [1,1,1]).reset_index(drop = True)\ndf.loc[df['Neighbourhood'] == 'Not assigned', ['Neighbourhood']] = df['Borough']\ncheck_unassigned_sample = df.loc[df['Borough'] == 'Queen\\'s Park']\ndf = df.groupby(['Postcode','Borough'])['Neighbourhood'].apply(', '.join).reset_index()\ndf.rename(columns={'Postcode':'PostalCode'}, inplace=True)", 
            "cell_type": "code", 
            "metadata": {}, 
            "outputs": [], 
            "execution_count": 14
        }, 
        {
            "source": "**5. Checking the dataframe**", 
            "cell_type": "markdown", 
            "metadata": {}
        }, 
        {
            "source": "## First ten rows of the dataframe\ndf.head(10)", 
            "cell_type": "code", 
            "metadata": {}, 
            "outputs": [
                {
                    "output_type": "execute_result", 
                    "data": {
                        "text/html": "<div>\n<style scoped>\n    .dataframe tbody tr th:only-of-type {\n        vertical-align: middle;\n    }\n\n    .dataframe tbody tr th {\n        vertical-align: top;\n    }\n\n    .dataframe thead th {\n        text-align: right;\n    }\n</style>\n<table border=\"1\" class=\"dataframe\">\n  <thead>\n    <tr style=\"text-align: right;\">\n      <th></th>\n      <th>PostalCode</th>\n      <th>Borough</th>\n      <th>Neighbourhood</th>\n    </tr>\n  </thead>\n  <tbody>\n    <tr>\n      <th>0</th>\n      <td>M1B</td>\n      <td>Scarborough</td>\n      <td>Malvern, Rouge</td>\n    </tr>\n    <tr>\n      <th>1</th>\n      <td>M1C</td>\n      <td>Scarborough</td>\n      <td>Highland Creek, Port Union, Rouge Hill</td>\n    </tr>\n    <tr>\n      <th>2</th>\n      <td>M1E</td>\n      <td>Scarborough</td>\n      <td>Guildwood, Morningside, West Hill</td>\n    </tr>\n    <tr>\n      <th>3</th>\n      <td>M1G</td>\n      <td>Scarborough</td>\n      <td>Woburn</td>\n    </tr>\n    <tr>\n      <th>4</th>\n      <td>M1H</td>\n      <td>Scarborough</td>\n      <td>Cedarbrae</td>\n    </tr>\n    <tr>\n      <th>5</th>\n      <td>M1J</td>\n      <td>Scarborough</td>\n      <td>Scarborough Village</td>\n    </tr>\n    <tr>\n      <th>6</th>\n      <td>M1K</td>\n      <td>Scarborough</td>\n      <td>East Birchmount Park, Ionview, Kennedy Park</td>\n    </tr>\n    <tr>\n      <th>7</th>\n      <td>M1L</td>\n      <td>Scarborough</td>\n      <td>Clairlea, Golden Mile, Oakridge</td>\n    </tr>\n    <tr>\n      <th>8</th>\n      <td>M1M</td>\n      <td>Scarborough</td>\n      <td>Cliffcrest, Cliffside, Scarborough Village West</td>\n    </tr>\n    <tr>\n      <th>9</th>\n      <td>M1N</td>\n      <td>Scarborough</td>\n      <td>Birch Cliff, Cliffside West</td>\n    </tr>\n  </tbody>\n</table>\n</div>", 
                        "text/plain": "  PostalCode      Borough                                    Neighbourhood\n0        M1B  Scarborough                                   Malvern, Rouge\n1        M1C  Scarborough           Highland Creek, Port Union, Rouge Hill\n2        M1E  Scarborough                Guildwood, Morningside, West Hill\n3        M1G  Scarborough                                           Woburn\n4        M1H  Scarborough                                        Cedarbrae\n5        M1J  Scarborough                              Scarborough Village\n6        M1K  Scarborough      East Birchmount Park, Ionview, Kennedy Park\n7        M1L  Scarborough                  Clairlea, Golden Mile, Oakridge\n8        M1M  Scarborough  Cliffcrest, Cliffside, Scarborough Village West\n9        M1N  Scarborough                      Birch Cliff, Cliffside West"
                    }, 
                    "execution_count": 15, 
                    "metadata": {}
                }
            ], 
            "execution_count": 15
        }, 
        {
            "source": "## Size of the dataframe (rows, columns)\ndf.shape", 
            "cell_type": "code", 
            "metadata": {}, 
            "outputs": [
                {
                    "output_type": "execute_result", 
                    "data": {
                        "text/plain": "(103, 3)"
                    }, 
                    "execution_count": 16, 
                    "metadata": {}
                }
            ], 
            "execution_count": 16
        }, 
        {
            "source": "**6. Saving the dataframe**", 
            "cell_type": "markdown", 
            "metadata": {}
        }, 
        {
            "source": "df.to_csv('Toronto1.csv', index = False)", 
            "cell_type": "code", 
            "metadata": {}, 
            "outputs": [], 
            "execution_count": 17
        }
    ], 
    "metadata": {
        "kernelspec": {
            "display_name": "Python 3.5", 
            "name": "python3", 
            "language": "python"
        }, 
        "language_info": {
            "mimetype": "text/x-python", 
            "nbconvert_exporter": "python", 
            "version": "3.5.5", 
            "name": "python", 
            "file_extension": ".py", 
            "pygments_lexer": "ipython3", 
            "codemirror_mode": {
                "version": 3, 
                "name": "ipython"
            }
        }
    }, 
    "nbformat": 4
}